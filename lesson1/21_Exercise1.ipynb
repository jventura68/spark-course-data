{
 "cells": [
  {
   "cell_type": "code",
   "execution_count": null,
   "metadata": {},
   "outputs": [],
   "source": [
    "import pyspark\n",
    "from pyspark.sql import SparkSession\n",
    "app_name = \"accidentes\"\n",
    "master = \"local[*]\"\n",
    "spark = (SparkSession.builder\n",
    "    .master(master)\n",
    "    .config(\"spark.driver.cores\", 1)\n",
    "    .appName(app_name)\n",
    "    .getOrCreate() )\n",
    "sc = spark.sparkContext\n",
    "print ('SparkContext created')"
   ]
  },
  {
   "cell_type": "code",
   "execution_count": null,
   "metadata": {},
   "outputs": [],
   "source": [
    "# creates a sequence of 10000 numbers\n",
    "# and a RDD based on that sequence\n",
    "numbers = [x for x in range(-5000, 5000)]\n",
    "paralellized_numbers = sc.parallelize(numbers)\n",
    "paralellized_numbers.count()"
   ]
  },
  {
   "cell_type": "code",
   "execution_count": null,
   "metadata": {},
   "outputs": [],
   "source": [
    "paralellized_numbers.first()"
   ]
  },
  {
   "cell_type": "code",
   "execution_count": null,
   "metadata": {},
   "outputs": [],
   "source": [
    "paralellized_numbers.min()"
   ]
  },
  {
   "cell_type": "code",
   "execution_count": null,
   "metadata": {},
   "outputs": [],
   "source": [
    "paralellized_numbers.max()"
   ]
  },
  {
   "cell_type": "code",
   "execution_count": null,
   "metadata": {},
   "outputs": [],
   "source": [
    "# creates a new RDD with only even\n",
    "# numbers from the original dataset\n",
    "positive_numbers = paralellized_numbers.filter(\n",
    "    lambda x: x >= 0)\n",
    "print ('count {}\\nfirst {}\\nmin {}\\nmax {}'.format(positive_numbers.count(),\n",
    "                                                 positive_numbers.first(),\n",
    "                                                 positive_numbers.min(),\n",
    "                                                 positive_numbers.max()))"
   ]
  },
  {
   "cell_type": "code",
   "execution_count": null,
   "metadata": {},
   "outputs": [],
   "source": [
    "def is_multiple(n):\n",
    "    \"\"\"\n",
    "    returns true if a number is multiple of 3,\n",
    "    otherwise returns false\n",
    "    \"\"\"\n",
    "    if n % 3 == 0:\n",
    "        return True\n",
    "    else:\n",
    "        return False\n"
   ]
  },
  {
   "cell_type": "code",
   "execution_count": null,
   "metadata": {},
   "outputs": [],
   "source": [
    "# creates a new RDD with numbers multiple of 3\n",
    "multiple_numbers = paralellized_numbers.filter(is_multiple)\n",
    "print ('count {}\\nfirst {}\\nmin {}\\nmax {}'.format(multiple_numbers.count(),\n",
    "                                                 multiple_numbers.first(),\n",
    "                                                 multiple_numbers.min(),\n",
    "                                                 multiple_numbers.max()))"
   ]
  },
  {
   "cell_type": "code",
   "execution_count": null,
   "metadata": {},
   "outputs": [],
   "source": []
  }
 ],
 "metadata": {
  "kernelspec": {
   "display_name": "Python 3",
   "language": "python",
   "name": "python3"
  },
  "language_info": {
   "codemirror_mode": {
    "name": "ipython",
    "version": 3
   },
   "file_extension": ".py",
   "mimetype": "text/x-python",
   "name": "python",
   "nbconvert_exporter": "python",
   "pygments_lexer": "ipython3",
   "version": "3.7.3"
  }
 },
 "nbformat": 4,
 "nbformat_minor": 4
}
