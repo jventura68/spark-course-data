{
 "cells": [
  {
   "cell_type": "code",
   "execution_count": null,
   "metadata": {},
   "outputs": [],
   "source": [
    "def fibonacci(strategy, n):\n",
    "    \"\"\"\n",
    "    Computes fibonacci using different strategies\n",
    "    \"\"\"\n",
    "    def classic_fb(n):\n",
    "        \"\"\"\n",
    "        Classic recursion approach\n",
    "        \"\"\"\n",
    "        if n == 0: return 0\n",
    "        elif n == 1: return 1\n",
    "        else: return classic_fb(n - 1) + classic_fb(n - 2)\n",
    "    def binet_fb(n):\n",
    "        \"\"\"\n",
    "        Binet's Fibonacci Number Formula\n",
    "        http://mathworld.wolfram.com/BinetsFibonacciNumberFormula.html\n",
    "        \"\"\"\n",
    "        import math\n",
    "        return (\n",
    "            (1 + math.sqrt(5)) ** n -\n",
    "                ( 1 - math.sqrt(5)) ** n) / (2**n*math.sqrt(5))\n",
    "    strategy_dict = {'classic': classic_fb, 'binet': binet_fb}\n",
    "    return strategy_dict[strategy](n)"
   ]
  },
  {
   "cell_type": "code",
   "execution_count": null,
   "metadata": {},
   "outputs": [],
   "source": [
    "def benchmark_fibonacci():\n",
    "    from datetime import datetime\n",
    "    strategies = ('classic', 'binet')\n",
    "    numbers = (10, 20, 30)\n",
    "    for st in strategies:\n",
    "        init = datetime.utcnow()\n",
    "        for n in numbers:\n",
    "            r = fibonacci(st, n)\n",
    "            total_time = datetime.utcnow() - init\n",
    "            print(\n",
    "                'Strategy: {} result: {} n: {} execution time: {}'.format(\n",
    "                    st, r, n, total_time\n",
    "                ))\n"
   ]
  },
  {
   "cell_type": "code",
   "execution_count": null,
   "metadata": {},
   "outputs": [],
   "source": [
    "benchmark_fibonacci()"
   ]
  },
  {
   "cell_type": "code",
   "execution_count": null,
   "metadata": {},
   "outputs": [],
   "source": []
  }
 ],
 "metadata": {
  "kernelspec": {
   "display_name": "Python 3",
   "language": "python",
   "name": "python3"
  },
  "language_info": {
   "codemirror_mode": {
    "name": "ipython",
    "version": 3
   },
   "file_extension": ".py",
   "mimetype": "text/x-python",
   "name": "python",
   "nbconvert_exporter": "python",
   "pygments_lexer": "ipython3",
   "version": "3.7.3"
  }
 },
 "nbformat": 4,
 "nbformat_minor": 4
}
