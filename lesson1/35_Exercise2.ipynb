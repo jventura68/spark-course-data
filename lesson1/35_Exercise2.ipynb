{
 "cells": [
  {
   "cell_type": "code",
   "execution_count": 1,
   "metadata": {},
   "outputs": [
    {
     "name": "stdout",
     "output_type": "stream",
     "text": [
      "SparkContext created\n"
     ]
    }
   ],
   "source": [
    "import pyspark\n",
    "from pyspark.sql import SparkSession\n",
    "app_name = \"accidentes\"\n",
    "master = \"local[*]\"\n",
    "spark = (SparkSession.builder\n",
    "    .master(master)\n",
    "    .config(\"spark.driver.cores\", 1)\n",
    "    .appName(app_name)\n",
    "    .getOrCreate() )\n",
    "sc = spark.sparkContext\n",
    "print ('SparkContext created')"
   ]
  },
  {
   "cell_type": "code",
   "execution_count": 2,
   "metadata": {},
   "outputs": [
    {
     "data": {
      "text/plain": [
       "606285"
      ]
     },
     "execution_count": 2,
     "metadata": {},
     "output_type": "execute_result"
    }
   ],
   "source": [
    "#Carga el fichero en el vector lines2 leyendolo desde la web\n",
    "import urllib.request\n",
    "url = 'https://www.gutenberg.org/files/76/76-0.txt' #huckleberry.txt en el proyecto Gutemberg\n",
    "response = urllib.request.urlopen(url)\n",
    "data = response.read()\n",
    "data = data.decode('utf-8')\n",
    "len(data)"
   ]
  },
  {
   "cell_type": "code",
   "execution_count": 3,
   "metadata": {},
   "outputs": [
    {
     "data": {
      "text/plain": [
       "12326"
      ]
     },
     "execution_count": 3,
     "metadata": {},
     "output_type": "execute_result"
    }
   ],
   "source": [
    "lines = data.split('\\n')\n",
    "len (lines)"
   ]
  },
  {
   "cell_type": "code",
   "execution_count": 9,
   "metadata": {},
   "outputs": [
    {
     "data": {
      "text/plain": [
       "12326"
      ]
     },
     "execution_count": 9,
     "metadata": {},
     "output_type": "execute_result"
    }
   ],
   "source": [
    "#Crea el RDD a partir de lines\n",
    "book = sc.parallelize(lines)\n",
    "book.count()"
   ]
  },
  {
   "cell_type": "code",
   "execution_count": 10,
   "metadata": {},
   "outputs": [
    {
     "data": {
      "text/plain": [
       "'\\ufeff\\r'"
      ]
     },
     "execution_count": 10,
     "metadata": {},
     "output_type": "execute_result"
    }
   ],
   "source": [
    "book.first()"
   ]
  },
  {
   "cell_type": "code",
   "execution_count": 11,
   "metadata": {},
   "outputs": [],
   "source": [
    "def clean_line(line):\n",
    "    \"\"\"\n",
    "    Remove \\ufeff\\r characters\n",
    "    Remove \\t \\n \\r\n",
    "    Remove additional characters\n",
    "    \"\"\"\n",
    "    return line.replace('\\ufeff\\r', '').\\\n",
    "        replace('\\t', ' ').replace('\\n', '').replace('\\r', '').\\\n",
    "        replace('(', '').replace(')', '').replace(\"'\", '').\\\n",
    "        replace('\"', '').replace(',', ''). replace('.', '').\\\n",
    "        replace('*', '')"
   ]
  },
  {
   "cell_type": "code",
   "execution_count": 12,
   "metadata": {},
   "outputs": [
    {
     "data": {
      "text/plain": [
       "9655"
      ]
     },
     "execution_count": 12,
     "metadata": {},
     "output_type": "execute_result"
    }
   ],
   "source": [
    "# Remove characters and empty lines\n",
    "cleaned_book = book.map(lambda x: clean_line (x))\\\n",
    "                   .filter (lambda x: x != '')\n",
    "cleaned_book.count()"
   ]
  },
  {
   "cell_type": "code",
   "execution_count": 13,
   "metadata": {},
   "outputs": [
    {
     "data": {
      "text/plain": [
       "'The Project Gutenberg EBook of Adventures of Huckleberry Finn Complete'"
      ]
     },
     "execution_count": 13,
     "metadata": {},
     "output_type": "execute_result"
    }
   ],
   "source": [
    "cleaned_book.first()"
   ]
  },
  {
   "cell_type": "code",
   "execution_count": 18,
   "metadata": {},
   "outputs": [
    {
     "data": {
      "text/plain": [
       "114194"
      ]
     },
     "execution_count": 18,
     "metadata": {},
     "output_type": "execute_result"
    }
   ],
   "source": [
    "import re\n",
    "def normalize_tokenize(line):\n",
    "    \"\"\"\n",
    "    Normalize: lowercase\n",
    "    tokenize: split in tokens\n",
    "    \"\"\"\n",
    "    return re.sub('\\s+', ' ', line).strip().lower().split(' ')  #['the','project',....]\n",
    "tokens = cleaned_book.flatMap (normalize_tokenize)\n",
    "tokens.count()"
   ]
  },
  {
   "cell_type": "code",
   "execution_count": 19,
   "metadata": {},
   "outputs": [
    {
     "data": {
      "text/plain": [
       "'the'"
      ]
     },
     "execution_count": 19,
     "metadata": {},
     "output_type": "execute_result"
    }
   ],
   "source": [
    "tokens.first()"
   ]
  },
  {
   "cell_type": "code",
   "execution_count": 20,
   "metadata": {},
   "outputs": [
    {
     "data": {
      "text/plain": [
       "58043"
      ]
     },
     "execution_count": 20,
     "metadata": {},
     "output_type": "execute_result"
    }
   ],
   "source": [
    "reduced_tokens = tokens.filter (lambda s: len(s) > 3)\n",
    "reduced_tokens.count()"
   ]
  },
  {
   "cell_type": "code",
   "execution_count": 21,
   "metadata": {},
   "outputs": [
    {
     "data": {
      "text/plain": [
       "'project'"
      ]
     },
     "execution_count": 21,
     "metadata": {},
     "output_type": "execute_result"
    }
   ],
   "source": [
    "reduced_tokens.first()"
   ]
  },
  {
   "cell_type": "code",
   "execution_count": 22,
   "metadata": {},
   "outputs": [
    {
     "data": {
      "text/plain": [
       "('project', 1)"
      ]
     },
     "execution_count": 22,
     "metadata": {},
     "output_type": "execute_result"
    }
   ],
   "source": [
    "counts = reduced_tokens.map (lambda x: (x, 1))\n",
    "counts.first()"
   ]
  },
  {
   "cell_type": "code",
   "execution_count": 23,
   "metadata": {},
   "outputs": [
    {
     "data": {
      "text/plain": [
       "[('project', 83), ('gutenberg', 24), ('ebook', 10), ('adventures', 9)]"
      ]
     },
     "execution_count": 23,
     "metadata": {},
     "output_type": "execute_result"
    }
   ],
   "source": [
    "reduced_counts = counts.reduceByKey (\n",
    "                    lambda accumulator , value : accumulator + value)  # conmutativa y asociativa\n",
    "reduced_counts.take(4)"
   ]
  },
  {
   "cell_type": "code",
   "execution_count": 24,
   "metadata": {},
   "outputs": [
    {
     "data": {
      "text/plain": [
       "[('#76]', 1), ('$5000', 1), ('1500', 1), ('2001', 1)]"
      ]
     },
     "execution_count": 24,
     "metadata": {},
     "output_type": "execute_result"
    }
   ],
   "source": [
    "# ordered by natural key (word)\n",
    "reduced_counts.takeOrdered(4)"
   ]
  },
  {
   "cell_type": "code",
   "execution_count": 25,
   "metadata": {},
   "outputs": [
    {
     "data": {
      "text/plain": [
       "[('author:', 1), ('date:', 1), ('february', 1), ('language:', 1)]"
      ]
     },
     "execution_count": 25,
     "metadata": {},
     "output_type": "execute_result"
    }
   ],
   "source": [
    "# ordered by frequency\n",
    "reduced_counts.takeOrdered (4, key=lambda x: x[1])"
   ]
  },
  {
   "cell_type": "code",
   "execution_count": 26,
   "metadata": {},
   "outputs": [
    {
     "data": {
      "text/plain": [
       "[('that', 1021),\n",
       " ('they', 690),\n",
       " ('with', 572),\n",
       " ('then', 565),\n",
       " ('there', 539),\n",
       " ('them', 471),\n",
       " ('down', 459),\n",
       " ('said', 458)]"
      ]
     },
     "execution_count": 26,
     "metadata": {},
     "output_type": "execute_result"
    }
   ],
   "source": [
    "# reverse order by frequency\n",
    "reduced_counts.takeOrdered (8, key=lambda x: -x[1])"
   ]
  },
  {
   "cell_type": "code",
   "execution_count": 27,
   "metadata": {},
   "outputs": [
    {
     "data": {
      "text/plain": [
       "[('that', 1021),\n",
       " ('they', 690),\n",
       " ('with', 572),\n",
       " ('then', 565),\n",
       " ('there', 539),\n",
       " ('them', 471),\n",
       " ('down', 459),\n",
       " ('said', 458)]"
      ]
     },
     "execution_count": 27,
     "metadata": {},
     "output_type": "execute_result"
    }
   ],
   "source": [
    "# reverse order by frequency, other way\n",
    "reduced_counts.top (8, key=lambda x: x[1])"
   ]
  },
  {
   "cell_type": "code",
   "execution_count": 28,
   "metadata": {},
   "outputs": [
    {
     "data": {
      "text/plain": [
       "[('them', 471),\n",
       " ('down', 459),\n",
       " ('said', 458),\n",
       " ('when', 421),\n",
       " ('about', 416),\n",
       " ('would', 392),\n",
       " ('come', 366),\n",
       " ('what', 349)]"
      ]
     },
     "execution_count": 28,
     "metadata": {},
     "output_type": "execute_result"
    }
   ],
   "source": [
    "# exclude top n words with top high frequecy but meaningless\n",
    "huckleberry_book = reduced_counts.filter(\n",
    "          lambda x: x[1] < 500)\n",
    "huckleberry_book.takeOrdered (8, key=lambda x: -x[1])"
   ]
  },
  {
   "cell_type": "code",
   "execution_count": 29,
   "metadata": {},
   "outputs": [],
   "source": [
    "hamlet_url = 'https://www.gutenberg.org/files/2265/2265.txt'\n",
    "response = urllib.request.urlopen(hamlet_url)\n",
    "data = response.read().decode('utf-8').split('\\n')"
   ]
  },
  {
   "cell_type": "code",
   "execution_count": 32,
   "metadata": {},
   "outputs": [
    {
     "data": {
      "text/plain": [
       "5715"
      ]
     },
     "execution_count": 32,
     "metadata": {},
     "output_type": "execute_result"
    }
   ],
   "source": [
    "'''\n",
    "Creates a RDD for hamlet book\n",
    "Removes characters, empty lines\n",
    "Tokenize\n",
    "Removes stop words\n",
    "Counts frequecy\n",
    "'''\n",
    "shakespeare_book = sc.parallelize (data).\\\n",
    "      map (clean_line).\\\n",
    "      filter (lambda x: x != '').\\\n",
    "      flatMap (normalize_tokenize).\\\n",
    "      filter (lambda x: len(x) > 3).\\\n",
    "      map (lambda x: (x, 1)).\\\n",
    "      reduceByKey (\n",
    "          lambda accum, val: accum + val)\n",
    "shakespeare_book.count()"
   ]
  },
  {
   "cell_type": "code",
   "execution_count": 33,
   "metadata": {},
   "outputs": [
    {
     "data": {
      "text/plain": [
       "('project', 36)"
      ]
     },
     "execution_count": 33,
     "metadata": {},
     "output_type": "execute_result"
    }
   ],
   "source": [
    "shakespeare_book.first()"
   ]
  },
  {
   "cell_type": "code",
   "execution_count": 34,
   "metadata": {},
   "outputs": [
    {
     "data": {
      "text/plain": [
       "[('produced', 1), ('tools', 1), ('developed', 1), ('improved', 1)]"
      ]
     },
     "execution_count": 34,
     "metadata": {},
     "output_type": "execute_result"
    }
   ],
   "source": [
    "shakespeare_book.takeOrdered (4, key=lambda x: x[1])"
   ]
  },
  {
   "cell_type": "code",
   "execution_count": 35,
   "metadata": {},
   "outputs": [
    {
     "data": {
      "text/plain": [
       "1405"
      ]
     },
     "execution_count": 35,
     "metadata": {},
     "output_type": "execute_result"
    }
   ],
   "source": [
    "'''\n",
    "Perform join operation to find out what words\n",
    "are used in both books\n",
    "'''\n",
    "common_words = huckleberry_book.join (shakespeare_book)\n",
    "common_words.count()"
   ]
  },
  {
   "cell_type": "code",
   "execution_count": 36,
   "metadata": {},
   "outputs": [
    {
     "data": {
      "text/plain": [
       "[('2001', (1, 2)),\n",
       " ('about', (416, 24)),\n",
       " ('above', (17, 3)),\n",
       " ('accept', (1, 1)),\n",
       " ('access', (10, 1)),\n",
       " ('accident', (1, 2)),\n",
       " ('according', (6, 3)),\n",
       " ('account', (16, 2))]"
      ]
     },
     "execution_count": 36,
     "metadata": {},
     "output_type": "execute_result"
    }
   ],
   "source": [
    "# ordering by word\n",
    "common_words.takeOrdered (8)"
   ]
  },
  {
   "cell_type": "code",
   "execution_count": 37,
   "metadata": {},
   "outputs": [
    {
     "data": {
      "text/plain": [
       "[('them', (471, 60)),\n",
       " ('said', (458, 12)),\n",
       " ('when', (421, 56)),\n",
       " ('about', (416, 24)),\n",
       " ('would', (392, 69)),\n",
       " ('come', (366, 99)),\n",
       " ('what', (349, 202)),\n",
       " ('didnt', (332, 1))]"
      ]
     },
     "execution_count": 37,
     "metadata": {},
     "output_type": "execute_result"
    }
   ],
   "source": [
    "common_words.takeOrdered (8, key=lambda x: -x[1][0])   "
   ]
  },
  {
   "cell_type": "code",
   "execution_count": 38,
   "metadata": {},
   "outputs": [
    {
     "data": {
      "text/plain": [
       "[('comrade', (1, 1)),\n",
       " ('loses', (1, 1)),\n",
       " ('finds', (1, 1)),\n",
       " ('ominous', (1, 1)),\n",
       " ('wounded', (1, 1)),\n",
       " ('explanatory', (1, 1)),\n",
       " ('prayers', (1, 1)),\n",
       " ('passages', (1, 1))]"
      ]
     },
     "execution_count": 38,
     "metadata": {},
     "output_type": "execute_result"
    }
   ],
   "source": [
    "# ordering by the sum of the frequencies in both books\n",
    "common_words.takeOrdered (8, key=lambda x: x[1][0] + x[1][1])"
   ]
  },
  {
   "cell_type": "code",
   "execution_count": 39,
   "metadata": {},
   "outputs": [
    {
     "data": {
      "text/plain": [
       "[('this', (282, 309)),\n",
       " ('what', (349, 202)),\n",
       " ('them', (471, 60)),\n",
       " ('when', (421, 56)),\n",
       " ('said', (458, 12)),\n",
       " ('come', (366, 99)),\n",
       " ('your', (200, 265)),\n",
       " ('would', (392, 69))]"
      ]
     },
     "execution_count": 39,
     "metadata": {},
     "output_type": "execute_result"
    }
   ],
   "source": [
    "common_words.top (8, key=lambda x: x[1][0] + x[1][1])"
   ]
  },
  {
   "cell_type": "code",
   "execution_count": 40,
   "metadata": {},
   "outputs": [
    {
     "data": {
      "text/plain": [
       "[('this', (282, 309)),\n",
       " ('what', (349, 202)),\n",
       " ('them', (471, 60)),\n",
       " ('when', (421, 56)),\n",
       " ('said', (458, 12)),\n",
       " ('come', (366, 99)),\n",
       " ('your', (200, 265)),\n",
       " ('would', (392, 69))]"
      ]
     },
     "execution_count": 40,
     "metadata": {},
     "output_type": "execute_result"
    }
   ],
   "source": [
    "common_words.takeOrdered (8, key=lambda x: -1 * (x[1][0] + x[1][1]))"
   ]
  },
  {
   "cell_type": "code",
   "execution_count": 41,
   "metadata": {},
   "outputs": [
    {
     "data": {
      "text/plain": [
       "8514"
      ]
     },
     "execution_count": 41,
     "metadata": {},
     "output_type": "execute_result"
    }
   ],
   "source": [
    "# words that are unique to huckleberry_book\n",
    "hamlet_book = shakespeare_book\n",
    "unique_huckleberry_book = huckleberry_book.\\\n",
    "    leftOuterJoin (hamlet_book).\\\n",
    "        filter (lambda x: x[1][1] is None).\\\n",
    "        map (lambda x: x[0])\n",
    "unique_huckleberry_book.count()"
   ]
  },
  {
   "cell_type": "code",
   "execution_count": 42,
   "metadata": {},
   "outputs": [
    {
     "data": {
      "text/plain": [
       "['adventures',\n",
       " 'huckleberry',\n",
       " 'twain',\n",
       " 'samuel',\n",
       " 'clemens',\n",
       " 'anyone',\n",
       " 'anywhere',\n",
       " 'restrictions']"
      ]
     },
     "execution_count": 42,
     "metadata": {},
     "output_type": "execute_result"
    }
   ],
   "source": [
    "unique_huckleberry_book.take (8)"
   ]
  },
  {
   "cell_type": "code",
   "execution_count": 47,
   "metadata": {},
   "outputs": [
    {
     "data": {
      "text/plain": [
       "4310"
      ]
     },
     "execution_count": 47,
     "metadata": {},
     "output_type": "execute_result"
    }
   ],
   "source": [
    "# words that are unique to hamlet_book\n",
    "unique_hamlet_book = hamlet_book.\\\n",
    "    leftOuterJoin (huckleberry_book).\\\n",
    "        filter (lambda x: x[1][1] is None).\\\n",
    "        map (lambda x: x[0])\n",
    "unique_hamlet_book.count()"
   ]
  },
  {
   "cell_type": "code",
   "execution_count": 44,
   "metadata": {},
   "outputs": [
    {
     "data": {
      "text/plain": [
       "['proofing',\n",
       " 'developed',\n",
       " 'there',\n",
       " 'improved',\n",
       " '#100',\n",
       " 'https://wwwgutenbergorg/ebooks/100']"
      ]
     },
     "execution_count": 44,
     "metadata": {},
     "output_type": "execute_result"
    }
   ],
   "source": [
    "unique_hamlet_book.take (6)"
   ]
  },
  {
   "cell_type": "code",
   "execution_count": null,
   "metadata": {},
   "outputs": [],
   "source": [
    "# words that are unique to hamlet_book using rightOuterJoin ????\n"
   ]
  }
 ],
 "metadata": {
  "kernelspec": {
   "display_name": "Python 3",
   "language": "python",
   "name": "python3"
  },
  "language_info": {
   "codemirror_mode": {
    "name": "ipython",
    "version": 3
   },
   "file_extension": ".py",
   "mimetype": "text/x-python",
   "name": "python",
   "nbconvert_exporter": "python",
   "pygments_lexer": "ipython3",
   "version": "3.7.3"
  }
 },
 "nbformat": 4,
 "nbformat_minor": 4
}
